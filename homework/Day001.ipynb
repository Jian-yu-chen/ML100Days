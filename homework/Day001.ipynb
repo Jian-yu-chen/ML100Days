# -*- coding: utf-8 -*-
"""
Created on Fri Jan 22 08:30:18 2021

@author: 宇
"""

import numpy as np
print(np.linspace(0,20,21))
print(np.linspace(0,20,11))